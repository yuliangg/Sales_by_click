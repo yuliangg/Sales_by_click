{
 "cells": [
  {
   "cell_type": "markdown",
   "metadata": {},
   "source": [
    "# Data Wrangling"
   ]
  },
  {
   "cell_type": "markdown",
   "metadata": {},
   "source": [
    "The challenge is to predict the variable \"sale\" in order to know if a user will finish a purchase or not. For this example, we have several variables provides expressly for this job. These variables have been recoleted from the web  portal an represent the users's activity during a week time."
   ]
  },
  {
   "cell_type": "markdown",
   "metadata": {},
   "source": [
    "Import the libreries necessary"
   ]
  },
  {
   "cell_type": "code",
   "execution_count": 1,
   "metadata": {
    "collapsed": true
   },
   "outputs": [],
   "source": [
    "import pandas as pd\n",
    "import numpy as np\n",
    "import matplotlib.pyplot as plt\n",
    "\n",
    "plt.style.use('ggplot')\n",
    "\n",
    "%matplotlib inline"
   ]
  },
  {
   "cell_type": "markdown",
   "metadata": {},
   "source": [
    "Import the data from csv file original"
   ]
  },
  {
   "cell_type": "code",
   "execution_count": 2,
   "metadata": {
    "collapsed": true
   },
   "outputs": [],
   "source": [
    "df=pd.read_csv('./clicks.csv', sep=',')"
   ]
  },
  {
   "cell_type": "markdown",
   "metadata": {},
   "source": [
    "The file clicks.csv contains data about clicks received from a hotel metasearch portal during the period of one week.\n",
    "Some examples of hotel metasearch portals are hotelscan.com, kayak.com, trivago.com, etc."
   ]
  },
  {
   "cell_type": "markdown",
   "metadata": {},
   "source": [
    "## Examining the data"
   ]
  },
  {
   "cell_type": "markdown",
   "metadata": {},
   "source": [
    "Checking the shape of dataframe"
   ]
  },
  {
   "cell_type": "code",
   "execution_count": 3,
   "metadata": {},
   "outputs": [
    {
     "data": {
      "text/plain": [
       "(158161, 8)"
      ]
     },
     "execution_count": 3,
     "metadata": {},
     "output_type": "execute_result"
    }
   ],
   "source": [
    "df.shape"
   ]
  },
  {
   "cell_type": "markdown",
   "metadata": {},
   "source": [
    "We doing a sample of severals items"
   ]
  },
  {
   "cell_type": "markdown",
   "metadata": {},
   "source": [
    "The dataset\n",
    "The file includes the following fields:\n",
    "\n",
    "    date - the date of the click\n",
    "    remite_id - the geographical market of the portal (eg kayak.co.uk, kayak.fr, kayak.de, etc)\n",
    "    checkin - the checkin date in the original user search\n",
    "    checkout - the checkout date in the original user search\n",
    "    adults - the number of adults in the original user search\n",
    "    children - the number of children in the original user search\n",
    "    hotel_id - the hotel clicked on by the user\n",
    "    sale - whether or not the click eventually resulted in a hotel reservation in Destinia "
   ]
  },
  {
   "cell_type": "code",
   "execution_count": 4,
   "metadata": {
    "scrolled": true
   },
   "outputs": [
    {
     "data": {
      "text/html": [
       "<div>\n",
       "<style>\n",
       "    .dataframe thead tr:only-child th {\n",
       "        text-align: right;\n",
       "    }\n",
       "\n",
       "    .dataframe thead th {\n",
       "        text-align: left;\n",
       "    }\n",
       "\n",
       "    .dataframe tbody tr th {\n",
       "        vertical-align: top;\n",
       "    }\n",
       "</style>\n",
       "<table border=\"1\" class=\"dataframe\">\n",
       "  <thead>\n",
       "    <tr style=\"text-align: right;\">\n",
       "      <th></th>\n",
       "      <th>date</th>\n",
       "      <th>remite_id</th>\n",
       "      <th>checkin</th>\n",
       "      <th>checkout</th>\n",
       "      <th>adults</th>\n",
       "      <th>children</th>\n",
       "      <th>hotel_id</th>\n",
       "      <th>sale</th>\n",
       "    </tr>\n",
       "  </thead>\n",
       "  <tbody>\n",
       "    <tr>\n",
       "      <th>376</th>\n",
       "      <td>2016-04-01</td>\n",
       "      <td>89</td>\n",
       "      <td>2016-05-05</td>\n",
       "      <td>2016-05-08</td>\n",
       "      <td>1</td>\n",
       "      <td>0</td>\n",
       "      <td>224049</td>\n",
       "      <td>0</td>\n",
       "    </tr>\n",
       "    <tr>\n",
       "      <th>109665</th>\n",
       "      <td>2016-04-05</td>\n",
       "      <td>27</td>\n",
       "      <td>2016-04-24</td>\n",
       "      <td>2016-04-25</td>\n",
       "      <td>2</td>\n",
       "      <td>0</td>\n",
       "      <td>167003</td>\n",
       "      <td>0</td>\n",
       "    </tr>\n",
       "    <tr>\n",
       "      <th>41357</th>\n",
       "      <td>2016-04-02</td>\n",
       "      <td>27</td>\n",
       "      <td>2016-06-23</td>\n",
       "      <td>2016-06-26</td>\n",
       "      <td>2</td>\n",
       "      <td>1</td>\n",
       "      <td>206352</td>\n",
       "      <td>0</td>\n",
       "    </tr>\n",
       "    <tr>\n",
       "      <th>41931</th>\n",
       "      <td>2016-04-02</td>\n",
       "      <td>27</td>\n",
       "      <td>2016-04-24</td>\n",
       "      <td>2016-04-25</td>\n",
       "      <td>2</td>\n",
       "      <td>0</td>\n",
       "      <td>209999</td>\n",
       "      <td>0</td>\n",
       "    </tr>\n",
       "    <tr>\n",
       "      <th>19340</th>\n",
       "      <td>2016-04-01</td>\n",
       "      <td>27</td>\n",
       "      <td>2016-05-05</td>\n",
       "      <td>2016-05-08</td>\n",
       "      <td>2</td>\n",
       "      <td>2</td>\n",
       "      <td>150845</td>\n",
       "      <td>0</td>\n",
       "    </tr>\n",
       "    <tr>\n",
       "      <th>143684</th>\n",
       "      <td>2016-04-07</td>\n",
       "      <td>27</td>\n",
       "      <td>2016-04-15</td>\n",
       "      <td>2016-04-16</td>\n",
       "      <td>2</td>\n",
       "      <td>0</td>\n",
       "      <td>165545</td>\n",
       "      <td>1</td>\n",
       "    </tr>\n",
       "    <tr>\n",
       "      <th>36501</th>\n",
       "      <td>2016-04-02</td>\n",
       "      <td>27</td>\n",
       "      <td>2016-04-22</td>\n",
       "      <td>2016-04-24</td>\n",
       "      <td>2</td>\n",
       "      <td>1</td>\n",
       "      <td>4086</td>\n",
       "      <td>0</td>\n",
       "    </tr>\n",
       "    <tr>\n",
       "      <th>110746</th>\n",
       "      <td>2016-04-05</td>\n",
       "      <td>27</td>\n",
       "      <td>2016-07-16</td>\n",
       "      <td>2016-07-28</td>\n",
       "      <td>2</td>\n",
       "      <td>0</td>\n",
       "      <td>970</td>\n",
       "      <td>0</td>\n",
       "    </tr>\n",
       "    <tr>\n",
       "      <th>75541</th>\n",
       "      <td>2016-04-04</td>\n",
       "      <td>27</td>\n",
       "      <td>2016-07-16</td>\n",
       "      <td>2016-07-22</td>\n",
       "      <td>2</td>\n",
       "      <td>2</td>\n",
       "      <td>208862</td>\n",
       "      <td>0</td>\n",
       "    </tr>\n",
       "    <tr>\n",
       "      <th>111015</th>\n",
       "      <td>2016-04-05</td>\n",
       "      <td>27</td>\n",
       "      <td>2016-04-14</td>\n",
       "      <td>2016-04-19</td>\n",
       "      <td>3</td>\n",
       "      <td>0</td>\n",
       "      <td>88222</td>\n",
       "      <td>0</td>\n",
       "    </tr>\n",
       "  </tbody>\n",
       "</table>\n",
       "</div>"
      ],
      "text/plain": [
       "              date  remite_id     checkin    checkout  adults  children  \\\n",
       "376     2016-04-01         89  2016-05-05  2016-05-08       1         0   \n",
       "109665  2016-04-05         27  2016-04-24  2016-04-25       2         0   \n",
       "41357   2016-04-02         27  2016-06-23  2016-06-26       2         1   \n",
       "41931   2016-04-02         27  2016-04-24  2016-04-25       2         0   \n",
       "19340   2016-04-01         27  2016-05-05  2016-05-08       2         2   \n",
       "143684  2016-04-07         27  2016-04-15  2016-04-16       2         0   \n",
       "36501   2016-04-02         27  2016-04-22  2016-04-24       2         1   \n",
       "110746  2016-04-05         27  2016-07-16  2016-07-28       2         0   \n",
       "75541   2016-04-04         27  2016-07-16  2016-07-22       2         2   \n",
       "111015  2016-04-05         27  2016-04-14  2016-04-19       3         0   \n",
       "\n",
       "        hotel_id  sale  \n",
       "376       224049     0  \n",
       "109665    167003     0  \n",
       "41357     206352     0  \n",
       "41931     209999     0  \n",
       "19340     150845     0  \n",
       "143684    165545     1  \n",
       "36501       4086     0  \n",
       "110746       970     0  \n",
       "75541     208862     0  \n",
       "111015     88222     0  "
      ]
     },
     "execution_count": 4,
     "metadata": {},
     "output_type": "execute_result"
    }
   ],
   "source": [
    "df.sample(10)"
   ]
  },
  {
   "cell_type": "markdown",
   "metadata": {},
   "source": [
    "On the other hand, we need to know the data types of dataframe"
   ]
  },
  {
   "cell_type": "code",
   "execution_count": 5,
   "metadata": {},
   "outputs": [
    {
     "data": {
      "text/plain": [
       "date         object\n",
       "remite_id     int64\n",
       "checkin      object\n",
       "checkout     object\n",
       "adults        int64\n",
       "children      int64\n",
       "hotel_id      int64\n",
       "sale          int64\n",
       "dtype: object"
      ]
     },
     "execution_count": 5,
     "metadata": {},
     "output_type": "execute_result"
    }
   ],
   "source": [
    "df.dtypes"
   ]
  },
  {
   "cell_type": "markdown",
   "metadata": {},
   "source": [
    "We check if there are any columns with NA values"
   ]
  },
  {
   "cell_type": "code",
   "execution_count": 6,
   "metadata": {
    "scrolled": true
   },
   "outputs": [
    {
     "data": {
      "text/plain": [
       "date         False\n",
       "remite_id    False\n",
       "checkin      False\n",
       "checkout     False\n",
       "adults       False\n",
       "children     False\n",
       "hotel_id     False\n",
       "sale         False\n",
       "dtype: bool"
      ]
     },
     "execution_count": 6,
     "metadata": {},
     "output_type": "execute_result"
    }
   ],
   "source": [
    "df.isnull().any()"
   ]
  },
  {
   "cell_type": "markdown",
   "metadata": {},
   "source": [
    "We have a quick look at the correlation between the numerical variables"
   ]
  },
  {
   "cell_type": "code",
   "execution_count": 7,
   "metadata": {},
   "outputs": [
    {
     "data": {
      "text/html": [
       "<div>\n",
       "<style>\n",
       "    .dataframe thead tr:only-child th {\n",
       "        text-align: right;\n",
       "    }\n",
       "\n",
       "    .dataframe thead th {\n",
       "        text-align: left;\n",
       "    }\n",
       "\n",
       "    .dataframe tbody tr th {\n",
       "        vertical-align: top;\n",
       "    }\n",
       "</style>\n",
       "<table border=\"1\" class=\"dataframe\">\n",
       "  <thead>\n",
       "    <tr style=\"text-align: right;\">\n",
       "      <th></th>\n",
       "      <th>remite_id</th>\n",
       "      <th>adults</th>\n",
       "      <th>children</th>\n",
       "      <th>hotel_id</th>\n",
       "      <th>sale</th>\n",
       "    </tr>\n",
       "  </thead>\n",
       "  <tbody>\n",
       "    <tr>\n",
       "      <th>remite_id</th>\n",
       "      <td>1.000000</td>\n",
       "      <td>-0.024550</td>\n",
       "      <td>-0.076523</td>\n",
       "      <td>0.197345</td>\n",
       "      <td>-0.022676</td>\n",
       "    </tr>\n",
       "    <tr>\n",
       "      <th>adults</th>\n",
       "      <td>-0.024550</td>\n",
       "      <td>1.000000</td>\n",
       "      <td>0.001900</td>\n",
       "      <td>0.033156</td>\n",
       "      <td>-0.025089</td>\n",
       "    </tr>\n",
       "    <tr>\n",
       "      <th>children</th>\n",
       "      <td>-0.076523</td>\n",
       "      <td>0.001900</td>\n",
       "      <td>1.000000</td>\n",
       "      <td>0.027788</td>\n",
       "      <td>-0.012033</td>\n",
       "    </tr>\n",
       "    <tr>\n",
       "      <th>hotel_id</th>\n",
       "      <td>0.197345</td>\n",
       "      <td>0.033156</td>\n",
       "      <td>0.027788</td>\n",
       "      <td>1.000000</td>\n",
       "      <td>-0.010107</td>\n",
       "    </tr>\n",
       "    <tr>\n",
       "      <th>sale</th>\n",
       "      <td>-0.022676</td>\n",
       "      <td>-0.025089</td>\n",
       "      <td>-0.012033</td>\n",
       "      <td>-0.010107</td>\n",
       "      <td>1.000000</td>\n",
       "    </tr>\n",
       "  </tbody>\n",
       "</table>\n",
       "</div>"
      ],
      "text/plain": [
       "           remite_id    adults  children  hotel_id      sale\n",
       "remite_id   1.000000 -0.024550 -0.076523  0.197345 -0.022676\n",
       "adults     -0.024550  1.000000  0.001900  0.033156 -0.025089\n",
       "children   -0.076523  0.001900  1.000000  0.027788 -0.012033\n",
       "hotel_id    0.197345  0.033156  0.027788  1.000000 -0.010107\n",
       "sale       -0.022676 -0.025089 -0.012033 -0.010107  1.000000"
      ]
     },
     "execution_count": 7,
     "metadata": {},
     "output_type": "execute_result"
    }
   ],
   "source": [
    "df.corr()"
   ]
  },
  {
   "cell_type": "code",
   "execution_count": 8,
   "metadata": {},
   "outputs": [
    {
     "data": {
      "text/plain": [
       "<matplotlib.axes._subplots.AxesSubplot at 0x7f9646662d30>"
      ]
     },
     "execution_count": 8,
     "metadata": {},
     "output_type": "execute_result"
    },
    {
     "data": {
      "image/png": "[encoded data removed]",
      "text/plain": [
       "<matplotlib.figure.Figure at 0x7f964f7e67b8>"
      ]
     },
     "metadata": {},
     "output_type": "display_data"
    }
   ],
   "source": [
    "import seaborn as sns\n",
    "\n",
    "sns.heatmap(df.corr(), cmap=sns.diverging_palette(220,20,n=11))"
   ]
  },
  {
   "cell_type": "markdown",
   "metadata": {},
   "source": [
    "## Formatting columns and parsing dates and times"
   ]
  },
  {
   "cell_type": "markdown",
   "metadata": {},
   "source": [
    "We need to convert the columns 'object' to datatime in order to manipulate the data"
   ]
  },
  {
   "cell_type": "markdown",
   "metadata": {},
   "source": [
    "First we convert the column 'date'"
   ]
  },
  {
   "cell_type": "code",
   "execution_count": 9,
   "metadata": {
    "collapsed": true
   },
   "outputs": [],
   "source": [
    "df['date']=pd.to_datetime(df['date'])"
   ]
  },
  {
   "cell_type": "markdown",
   "metadata": {},
   "source": [
    "We convert finally the columns 'checkin' and 'checkout'"
   ]
  },
  {
   "cell_type": "code",
   "execution_count": 10,
   "metadata": {
    "collapsed": true
   },
   "outputs": [],
   "source": [
    "cols_2_extract = df.columns[2:4]\n",
    "df[cols_2_extract] = df[cols_2_extract].applymap(lambda x : pd.to_datetime(x))"
   ]
  },
  {
   "cell_type": "markdown",
   "metadata": {},
   "source": [
    "Checking the result of convertion"
   ]
  },
  {
   "cell_type": "code",
   "execution_count": 11,
   "metadata": {},
   "outputs": [
    {
     "data": {
      "text/plain": [
       "date         datetime64[ns]\n",
       "remite_id             int64\n",
       "checkin      datetime64[ns]\n",
       "checkout     datetime64[ns]\n",
       "adults                int64\n",
       "children              int64\n",
       "hotel_id              int64\n",
       "sale                  int64\n",
       "dtype: object"
      ]
     },
     "execution_count": 11,
     "metadata": {},
     "output_type": "execute_result"
    }
   ],
   "source": [
    "df.dtypes"
   ]
  },
  {
   "cell_type": "code",
   "execution_count": 12,
   "metadata": {},
   "outputs": [
    {
     "data": {
      "text/html": [
       "<div>\n",
       "<style>\n",
       "    .dataframe thead tr:only-child th {\n",
       "        text-align: right;\n",
       "    }\n",
       "\n",
       "    .dataframe thead th {\n",
       "        text-align: left;\n",
       "    }\n",
       "\n",
       "    .dataframe tbody tr th {\n",
       "        vertical-align: top;\n",
       "    }\n",
       "</style>\n",
       "<table border=\"1\" class=\"dataframe\">\n",
       "  <thead>\n",
       "    <tr style=\"text-align: right;\">\n",
       "      <th></th>\n",
       "      <th>date</th>\n",
       "      <th>remite_id</th>\n",
       "      <th>checkin</th>\n",
       "      <th>checkout</th>\n",
       "      <th>adults</th>\n",
       "      <th>children</th>\n",
       "      <th>hotel_id</th>\n",
       "      <th>sale</th>\n",
       "    </tr>\n",
       "  </thead>\n",
       "  <tbody>\n",
       "    <tr>\n",
       "      <th>0</th>\n",
       "      <td>2016-04-01</td>\n",
       "      <td>89</td>\n",
       "      <td>2016-04-18</td>\n",
       "      <td>2016-04-26</td>\n",
       "      <td>2</td>\n",
       "      <td>0</td>\n",
       "      <td>255858</td>\n",
       "      <td>0</td>\n",
       "    </tr>\n",
       "    <tr>\n",
       "      <th>1</th>\n",
       "      <td>2016-04-01</td>\n",
       "      <td>89</td>\n",
       "      <td>2016-05-27</td>\n",
       "      <td>2016-05-28</td>\n",
       "      <td>2</td>\n",
       "      <td>2</td>\n",
       "      <td>80563</td>\n",
       "      <td>0</td>\n",
       "    </tr>\n",
       "    <tr>\n",
       "      <th>2</th>\n",
       "      <td>2016-04-01</td>\n",
       "      <td>89</td>\n",
       "      <td>2016-06-18</td>\n",
       "      <td>2016-06-19</td>\n",
       "      <td>2</td>\n",
       "      <td>0</td>\n",
       "      <td>165762</td>\n",
       "      <td>0</td>\n",
       "    </tr>\n",
       "    <tr>\n",
       "      <th>3</th>\n",
       "      <td>2016-04-01</td>\n",
       "      <td>89</td>\n",
       "      <td>2016-06-18</td>\n",
       "      <td>2016-06-19</td>\n",
       "      <td>2</td>\n",
       "      <td>0</td>\n",
       "      <td>165762</td>\n",
       "      <td>0</td>\n",
       "    </tr>\n",
       "    <tr>\n",
       "      <th>4</th>\n",
       "      <td>2016-04-01</td>\n",
       "      <td>89</td>\n",
       "      <td>2016-07-13</td>\n",
       "      <td>2016-08-20</td>\n",
       "      <td>2</td>\n",
       "      <td>0</td>\n",
       "      <td>849</td>\n",
       "      <td>0</td>\n",
       "    </tr>\n",
       "  </tbody>\n",
       "</table>\n",
       "</div>"
      ],
      "text/plain": [
       "        date  remite_id    checkin   checkout  adults  children  hotel_id  \\\n",
       "0 2016-04-01         89 2016-04-18 2016-04-26       2         0    255858   \n",
       "1 2016-04-01         89 2016-05-27 2016-05-28       2         2     80563   \n",
       "2 2016-04-01         89 2016-06-18 2016-06-19       2         0    165762   \n",
       "3 2016-04-01         89 2016-06-18 2016-06-19       2         0    165762   \n",
       "4 2016-04-01         89 2016-07-13 2016-08-20       2         0       849   \n",
       "\n",
       "   sale  \n",
       "0     0  \n",
       "1     0  \n",
       "2     0  \n",
       "3     0  \n",
       "4     0  "
      ]
     },
     "execution_count": 12,
     "metadata": {},
     "output_type": "execute_result"
    }
   ],
   "source": [
    "df.head()"
   ]
  },
  {
   "cell_type": "markdown",
   "metadata": {},
   "source": [
    "We observe the stadistical parameters of 'sale' field, target of the dataframe for future predictions"
   ]
  },
  {
   "cell_type": "code",
   "execution_count": 13,
   "metadata": {},
   "outputs": [
    {
     "data": {
      "text/plain": [
       "count    158161.000000\n",
       "mean          0.019543\n",
       "std           0.138425\n",
       "min           0.000000\n",
       "25%           0.000000\n",
       "50%           0.000000\n",
       "75%           0.000000\n",
       "max           1.000000\n",
       "Name: sale, dtype: float64"
      ]
     },
     "execution_count": 13,
     "metadata": {},
     "output_type": "execute_result"
    }
   ],
   "source": [
    "df['sale'].describe()"
   ]
  },
  {
   "cell_type": "markdown",
   "metadata": {},
   "source": [
    "We generate fields with the day of the week and if the value correspondig to weekend or not"
   ]
  },
  {
   "cell_type": "code",
   "execution_count": 14,
   "metadata": {
    "collapsed": true
   },
   "outputs": [],
   "source": [
    "from datetime import datetime\n",
    "\n",
    "def dow(date):\n",
    "    days=[\"Monday\",\"Tuesday\",\"Wednesday\",\"Thursday\",\"Friday\",\"Saturday\",\"Sunday\"]\n",
    "    dayNumber=date.weekday()\n",
    "    return days[dayNumber]\n",
    "\n",
    "#If the values return is 1, is weekend\n",
    "def weekend (x):\n",
    "    if x > 4:return 1\n",
    "    else: return 0"
   ]
  },
  {
   "cell_type": "code",
   "execution_count": 15,
   "metadata": {
    "collapsed": true
   },
   "outputs": [],
   "source": [
    "df['dayweek_num_click'] = df['date'].apply(lambda x: x.weekday())\n",
    "df['weekday_click'] = df['date'].apply(lambda x: dow(x))"
   ]
  },
  {
   "cell_type": "markdown",
   "metadata": {},
   "source": [
    "The monday is the '0' value and the Sunday the '6' value"
   ]
  },
  {
   "cell_type": "code",
   "execution_count": 16,
   "metadata": {
    "collapsed": true
   },
   "outputs": [],
   "source": [
    "df ['weekend'] = df['dayweek_num_click'].apply(lambda x: weekend(x))"
   ]
  },
  {
   "cell_type": "code",
   "execution_count": 17,
   "metadata": {},
   "outputs": [
    {
     "data": {
      "text/html": [
       "<div>\n",
       "<style>\n",
       "    .dataframe thead tr:only-child th {\n",
       "        text-align: right;\n",
       "    }\n",
       "\n",
       "    .dataframe thead th {\n",
       "        text-align: left;\n",
       "    }\n",
       "\n",
       "    .dataframe tbody tr th {\n",
       "        vertical-align: top;\n",
       "    }\n",
       "</style>\n",
       "<table border=\"1\" class=\"dataframe\">\n",
       "  <thead>\n",
       "    <tr style=\"text-align: right;\">\n",
       "      <th></th>\n",
       "      <th>date</th>\n",
       "      <th>remite_id</th>\n",
       "      <th>checkin</th>\n",
       "      <th>checkout</th>\n",
       "      <th>adults</th>\n",
       "      <th>children</th>\n",
       "      <th>hotel_id</th>\n",
       "      <th>sale</th>\n",
       "      <th>dayweek_num_click</th>\n",
       "      <th>weekday_click</th>\n",
       "      <th>weekend</th>\n",
       "    </tr>\n",
       "  </thead>\n",
       "  <tbody>\n",
       "    <tr>\n",
       "      <th>831</th>\n",
       "      <td>2016-04-01</td>\n",
       "      <td>89</td>\n",
       "      <td>2016-11-28</td>\n",
       "      <td>2016-12-08</td>\n",
       "      <td>2</td>\n",
       "      <td>0</td>\n",
       "      <td>266121</td>\n",
       "      <td>0</td>\n",
       "      <td>4</td>\n",
       "      <td>Friday</td>\n",
       "      <td>0</td>\n",
       "    </tr>\n",
       "    <tr>\n",
       "      <th>154365</th>\n",
       "      <td>2016-04-07</td>\n",
       "      <td>27</td>\n",
       "      <td>2016-04-14</td>\n",
       "      <td>2016-04-15</td>\n",
       "      <td>2</td>\n",
       "      <td>0</td>\n",
       "      <td>191568</td>\n",
       "      <td>0</td>\n",
       "      <td>3</td>\n",
       "      <td>Thursday</td>\n",
       "      <td>0</td>\n",
       "    </tr>\n",
       "    <tr>\n",
       "      <th>29055</th>\n",
       "      <td>2016-04-02</td>\n",
       "      <td>27</td>\n",
       "      <td>2016-04-30</td>\n",
       "      <td>2016-05-01</td>\n",
       "      <td>2</td>\n",
       "      <td>0</td>\n",
       "      <td>168165</td>\n",
       "      <td>0</td>\n",
       "      <td>5</td>\n",
       "      <td>Saturday</td>\n",
       "      <td>1</td>\n",
       "    </tr>\n",
       "    <tr>\n",
       "      <th>46005</th>\n",
       "      <td>2016-04-03</td>\n",
       "      <td>27</td>\n",
       "      <td>2016-04-22</td>\n",
       "      <td>2016-04-24</td>\n",
       "      <td>2</td>\n",
       "      <td>0</td>\n",
       "      <td>4100</td>\n",
       "      <td>0</td>\n",
       "      <td>6</td>\n",
       "      <td>Sunday</td>\n",
       "      <td>1</td>\n",
       "    </tr>\n",
       "    <tr>\n",
       "      <th>60347</th>\n",
       "      <td>2016-04-03</td>\n",
       "      <td>27</td>\n",
       "      <td>2016-08-22</td>\n",
       "      <td>2016-08-28</td>\n",
       "      <td>1</td>\n",
       "      <td>0</td>\n",
       "      <td>159203</td>\n",
       "      <td>0</td>\n",
       "      <td>6</td>\n",
       "      <td>Sunday</td>\n",
       "      <td>1</td>\n",
       "    </tr>\n",
       "    <tr>\n",
       "      <th>83619</th>\n",
       "      <td>2016-04-04</td>\n",
       "      <td>27</td>\n",
       "      <td>2016-04-09</td>\n",
       "      <td>2016-04-10</td>\n",
       "      <td>2</td>\n",
       "      <td>0</td>\n",
       "      <td>189214</td>\n",
       "      <td>0</td>\n",
       "      <td>0</td>\n",
       "      <td>Monday</td>\n",
       "      <td>0</td>\n",
       "    </tr>\n",
       "    <tr>\n",
       "      <th>130426</th>\n",
       "      <td>2016-04-06</td>\n",
       "      <td>27</td>\n",
       "      <td>2016-04-29</td>\n",
       "      <td>2016-05-02</td>\n",
       "      <td>2</td>\n",
       "      <td>0</td>\n",
       "      <td>376770</td>\n",
       "      <td>0</td>\n",
       "      <td>2</td>\n",
       "      <td>Wednesday</td>\n",
       "      <td>0</td>\n",
       "    </tr>\n",
       "    <tr>\n",
       "      <th>30198</th>\n",
       "      <td>2016-04-02</td>\n",
       "      <td>27</td>\n",
       "      <td>2016-08-16</td>\n",
       "      <td>2016-08-21</td>\n",
       "      <td>2</td>\n",
       "      <td>0</td>\n",
       "      <td>193868</td>\n",
       "      <td>0</td>\n",
       "      <td>5</td>\n",
       "      <td>Saturday</td>\n",
       "      <td>1</td>\n",
       "    </tr>\n",
       "    <tr>\n",
       "      <th>98424</th>\n",
       "      <td>2016-04-05</td>\n",
       "      <td>27</td>\n",
       "      <td>2016-07-30</td>\n",
       "      <td>2016-08-13</td>\n",
       "      <td>2</td>\n",
       "      <td>1</td>\n",
       "      <td>189761</td>\n",
       "      <td>0</td>\n",
       "      <td>1</td>\n",
       "      <td>Tuesday</td>\n",
       "      <td>0</td>\n",
       "    </tr>\n",
       "    <tr>\n",
       "      <th>65930</th>\n",
       "      <td>2016-04-03</td>\n",
       "      <td>89</td>\n",
       "      <td>2016-04-09</td>\n",
       "      <td>2016-04-16</td>\n",
       "      <td>2</td>\n",
       "      <td>0</td>\n",
       "      <td>63907</td>\n",
       "      <td>0</td>\n",
       "      <td>6</td>\n",
       "      <td>Sunday</td>\n",
       "      <td>1</td>\n",
       "    </tr>\n",
       "  </tbody>\n",
       "</table>\n",
       "</div>"
      ],
      "text/plain": [
       "             date  remite_id    checkin   checkout  adults  children  \\\n",
       "831    2016-04-01         89 2016-11-28 2016-12-08       2         0   \n",
       "154365 2016-04-07         27 2016-04-14 2016-04-15       2         0   \n",
       "29055  2016-04-02         27 2016-04-30 2016-05-01       2         0   \n",
       "46005  2016-04-03         27 2016-04-22 2016-04-24       2         0   \n",
       "60347  2016-04-03         27 2016-08-22 2016-08-28       1         0   \n",
       "83619  2016-04-04         27 2016-04-09 2016-04-10       2         0   \n",
       "130426 2016-04-06         27 2016-04-29 2016-05-02       2         0   \n",
       "30198  2016-04-02         27 2016-08-16 2016-08-21       2         0   \n",
       "98424  2016-04-05         27 2016-07-30 2016-08-13       2         1   \n",
       "65930  2016-04-03         89 2016-04-09 2016-04-16       2         0   \n",
       "\n",
       "        hotel_id  sale  dayweek_num_click weekday_click  weekend  \n",
       "831       266121     0                  4        Friday        0  \n",
       "154365    191568     0                  3      Thursday        0  \n",
       "29055     168165     0                  5      Saturday        1  \n",
       "46005       4100     0                  6        Sunday        1  \n",
       "60347     159203     0                  6        Sunday        1  \n",
       "83619     189214     0                  0        Monday        0  \n",
       "130426    376770     0                  2     Wednesday        0  \n",
       "30198     193868     0                  5      Saturday        1  \n",
       "98424     189761     0                  1       Tuesday        0  \n",
       "65930      63907     0                  6        Sunday        1  "
      ]
     },
     "execution_count": 17,
     "metadata": {},
     "output_type": "execute_result"
    }
   ],
   "source": [
    "df.sample(10)"
   ]
  },
  {
   "cell_type": "markdown",
   "metadata": {},
   "source": [
    "Also, we create a field with the month of the checkin"
   ]
  },
  {
   "cell_type": "code",
   "execution_count": 18,
   "metadata": {
    "collapsed": true
   },
   "outputs": [],
   "source": [
    "df['month_of_checkin']= df['checkin'].apply(lambda x: x.month)"
   ]
  },
  {
   "cell_type": "markdown",
   "metadata": {},
   "source": [
    "The number of days from the date of the 'click' and the checkin, also will be necessary"
   ]
  },
  {
   "cell_type": "code",
   "execution_count": 19,
   "metadata": {
    "collapsed": true
   },
   "outputs": [],
   "source": [
    "df['lag_days']= (df['checkin']- df['date'])/ pd.Timedelta(1, unit='d')"
   ]
  },
  {
   "cell_type": "markdown",
   "metadata": {},
   "source": [
    "The number of days of the  hotel stay, is important"
   ]
  },
  {
   "cell_type": "code",
   "execution_count": 20,
   "metadata": {
    "collapsed": true
   },
   "outputs": [],
   "source": [
    "df['ndays_reserve']= (df['checkout']- df['checkin'])/pd.Timedelta(1, unit='d')"
   ]
  },
  {
   "cell_type": "code",
   "execution_count": 21,
   "metadata": {},
   "outputs": [
    {
     "data": {
      "text/html": [
       "<div>\n",
       "<style>\n",
       "    .dataframe thead tr:only-child th {\n",
       "        text-align: right;\n",
       "    }\n",
       "\n",
       "    .dataframe thead th {\n",
       "        text-align: left;\n",
       "    }\n",
       "\n",
       "    .dataframe tbody tr th {\n",
       "        vertical-align: top;\n",
       "    }\n",
       "</style>\n",
       "<table border=\"1\" class=\"dataframe\">\n",
       "  <thead>\n",
       "    <tr style=\"text-align: right;\">\n",
       "      <th></th>\n",
       "      <th>date</th>\n",
       "      <th>remite_id</th>\n",
       "      <th>checkin</th>\n",
       "      <th>checkout</th>\n",
       "      <th>adults</th>\n",
       "      <th>children</th>\n",
       "      <th>hotel_id</th>\n",
       "      <th>sale</th>\n",
       "      <th>dayweek_num_click</th>\n",
       "      <th>weekday_click</th>\n",
       "      <th>weekend</th>\n",
       "      <th>month_of_checkin</th>\n",
       "      <th>lag_days</th>\n",
       "      <th>ndays_reserve</th>\n",
       "    </tr>\n",
       "  </thead>\n",
       "  <tbody>\n",
       "    <tr>\n",
       "      <th>119295</th>\n",
       "      <td>2016-04-06</td>\n",
       "      <td>89</td>\n",
       "      <td>2016-10-15</td>\n",
       "      <td>2016-10-22</td>\n",
       "      <td>2</td>\n",
       "      <td>0</td>\n",
       "      <td>4831</td>\n",
       "      <td>0</td>\n",
       "      <td>2</td>\n",
       "      <td>Wednesday</td>\n",
       "      <td>0</td>\n",
       "      <td>10</td>\n",
       "      <td>192.0</td>\n",
       "      <td>7.0</td>\n",
       "    </tr>\n",
       "    <tr>\n",
       "      <th>138591</th>\n",
       "      <td>2016-04-07</td>\n",
       "      <td>89</td>\n",
       "      <td>2016-08-23</td>\n",
       "      <td>2016-08-30</td>\n",
       "      <td>2</td>\n",
       "      <td>1</td>\n",
       "      <td>1021</td>\n",
       "      <td>0</td>\n",
       "      <td>3</td>\n",
       "      <td>Thursday</td>\n",
       "      <td>0</td>\n",
       "      <td>8</td>\n",
       "      <td>138.0</td>\n",
       "      <td>7.0</td>\n",
       "    </tr>\n",
       "    <tr>\n",
       "      <th>62973</th>\n",
       "      <td>2016-04-03</td>\n",
       "      <td>130</td>\n",
       "      <td>2016-08-19</td>\n",
       "      <td>2016-08-30</td>\n",
       "      <td>2</td>\n",
       "      <td>2</td>\n",
       "      <td>1074</td>\n",
       "      <td>0</td>\n",
       "      <td>6</td>\n",
       "      <td>Sunday</td>\n",
       "      <td>1</td>\n",
       "      <td>8</td>\n",
       "      <td>138.0</td>\n",
       "      <td>11.0</td>\n",
       "    </tr>\n",
       "    <tr>\n",
       "      <th>67064</th>\n",
       "      <td>2016-04-04</td>\n",
       "      <td>89</td>\n",
       "      <td>2016-05-02</td>\n",
       "      <td>2016-05-03</td>\n",
       "      <td>2</td>\n",
       "      <td>0</td>\n",
       "      <td>148438</td>\n",
       "      <td>0</td>\n",
       "      <td>0</td>\n",
       "      <td>Monday</td>\n",
       "      <td>0</td>\n",
       "      <td>5</td>\n",
       "      <td>28.0</td>\n",
       "      <td>1.0</td>\n",
       "    </tr>\n",
       "    <tr>\n",
       "      <th>60216</th>\n",
       "      <td>2016-04-03</td>\n",
       "      <td>27</td>\n",
       "      <td>2016-04-23</td>\n",
       "      <td>2016-04-25</td>\n",
       "      <td>2</td>\n",
       "      <td>0</td>\n",
       "      <td>93009</td>\n",
       "      <td>0</td>\n",
       "      <td>6</td>\n",
       "      <td>Sunday</td>\n",
       "      <td>1</td>\n",
       "      <td>4</td>\n",
       "      <td>20.0</td>\n",
       "      <td>2.0</td>\n",
       "    </tr>\n",
       "  </tbody>\n",
       "</table>\n",
       "</div>"
      ],
      "text/plain": [
       "             date  remite_id    checkin   checkout  adults  children  \\\n",
       "119295 2016-04-06         89 2016-10-15 2016-10-22       2         0   \n",
       "138591 2016-04-07         89 2016-08-23 2016-08-30       2         1   \n",
       "62973  2016-04-03        130 2016-08-19 2016-08-30       2         2   \n",
       "67064  2016-04-04         89 2016-05-02 2016-05-03       2         0   \n",
       "60216  2016-04-03         27 2016-04-23 2016-04-25       2         0   \n",
       "\n",
       "        hotel_id  sale  dayweek_num_click weekday_click  weekend  \\\n",
       "119295      4831     0                  2     Wednesday        0   \n",
       "138591      1021     0                  3      Thursday        0   \n",
       "62973       1074     0                  6        Sunday        1   \n",
       "67064     148438     0                  0        Monday        0   \n",
       "60216      93009     0                  6        Sunday        1   \n",
       "\n",
       "        month_of_checkin  lag_days  ndays_reserve  \n",
       "119295                10     192.0            7.0  \n",
       "138591                 8     138.0            7.0  \n",
       "62973                  8     138.0           11.0  \n",
       "67064                  5      28.0            1.0  \n",
       "60216                  4      20.0            2.0  "
      ]
     },
     "execution_count": 21,
     "metadata": {},
     "output_type": "execute_result"
    }
   ],
   "source": [
    "df.sample(5)"
   ]
  },
  {
   "cell_type": "code",
   "execution_count": 22,
   "metadata": {},
   "outputs": [
    {
     "data": {
      "text/plain": [
       "date                 datetime64[ns]\n",
       "remite_id                     int64\n",
       "checkin              datetime64[ns]\n",
       "checkout             datetime64[ns]\n",
       "adults                        int64\n",
       "children                      int64\n",
       "hotel_id                      int64\n",
       "sale                          int64\n",
       "dayweek_num_click             int64\n",
       "weekday_click                object\n",
       "weekend                       int64\n",
       "month_of_checkin              int64\n",
       "lag_days                    float64\n",
       "ndays_reserve               float64\n",
       "dtype: object"
      ]
     },
     "execution_count": 22,
     "metadata": {},
     "output_type": "execute_result"
    }
   ],
   "source": [
    "df.dtypes"
   ]
  },
  {
   "cell_type": "markdown",
   "metadata": {},
   "source": [
    "## Plotting the data"
   ]
  },
  {
   "cell_type": "markdown",
   "metadata": {},
   "source": [
    "Plotting the size of variable 'sale', we seeing that the values are vey unbalanced"
   ]
  },
  {
   "cell_type": "code",
   "execution_count": 23,
   "metadata": {},
   "outputs": [
    {
     "data": {
      "text/plain": [
       "sale\n",
       "0    155070\n",
       "1      3091\n",
       "dtype: int64"
      ]
     },
     "execution_count": 23,
     "metadata": {},
     "output_type": "execute_result"
    }
   ],
   "source": [
    "df.groupby('sale').size()"
   ]
  },
  {
   "cell_type": "code",
   "execution_count": 24,
   "metadata": {},
   "outputs": [
    {
     "data": {
      "text/plain": [
       "<seaborn.axisgrid.FacetGrid at 0x7f963ee88550>"
      ]
     },
     "execution_count": 24,
     "metadata": {},
     "output_type": "execute_result"
    },
    {
     "data": {
      "image/png": "[encoded data removed]",
      "text/plain": [
       "<matplotlib.figure.Figure at 0x7f963ef2c518>"
      ]
     },
     "metadata": {},
     "output_type": "display_data"
    }
   ],
   "source": [
    "sns.factorplot('sale',data=df,kind=\"count\")"
   ]
  },
  {
   "cell_type": "code",
   "execution_count": 25,
   "metadata": {},
   "outputs": [
    {
     "data": {
      "text/plain": [
       "<seaborn.axisgrid.FacetGrid at 0x7f963ee88470>"
      ]
     },
     "execution_count": 25,
     "metadata": {},
     "output_type": "execute_result"
    },
    {
     "data": {
      "image/png": "[encoded data removed]",
      "text/plain": [
       "<matplotlib.figure.Figure at 0x7f963efaea20>"
      ]
     },
     "metadata": {},
     "output_type": "display_data"
    }
   ],
   "source": [
    "sns.factorplot('remite_id',data=df,kind=\"count\", aspect=3)"
   ]
  },
  {
   "cell_type": "markdown",
   "metadata": {},
   "source": [
    "We see below the 'hotel_id' variable contains values unique into a range huge big. As we don't have hotel's indicators about the quality, price, opinions, etc.., we will not treat this variable"
   ]
  },
  {
   "cell_type": "code",
   "execution_count": 26,
   "metadata": {},
   "outputs": [
    {
     "data": {
      "text/plain": [
       "9662"
      ]
     },
     "execution_count": 26,
     "metadata": {},
     "output_type": "execute_result"
    }
   ],
   "source": [
    "df['hotel_id'].nunique()"
   ]
  },
  {
   "cell_type": "markdown",
   "metadata": {},
   "source": [
    "Ploting the variables 'adults'& 'children'to see their distribution"
   ]
  },
  {
   "cell_type": "raw",
   "metadata": {},
   "source": [
    "sns.factorplot('adults',data=df,kind=\"count\", hue='sale')"
   ]
  },
  {
   "cell_type": "code",
   "execution_count": 27,
   "metadata": {},
   "outputs": [
    {
     "data": {
      "text/plain": [
       "<seaborn.axisgrid.FacetGrid at 0x7f964f7e6550>"
      ]
     },
     "execution_count": 27,
     "metadata": {},
     "output_type": "execute_result"
    },
    {
     "data": {
      "image/png": "[encoded data removed]",
      "text/plain": [
       "<matplotlib.figure.Figure at 0x7f963ee4c908>"
      ]
     },
     "metadata": {},
     "output_type": "display_data"
    }
   ],
   "source": [
    "sns.factorplot('children',data=df,hue='sale',kind=\"count\")"
   ]
  },
  {
   "cell_type": "code",
   "execution_count": 28,
   "metadata": {},
   "outputs": [
    {
     "data": {
      "text/plain": [
       "<seaborn.axisgrid.FacetGrid at 0x7f963e0a5fd0>"
      ]
     },
     "execution_count": 28,
     "metadata": {},
     "output_type": "execute_result"
    },
    {
     "data": {
      "image/png": "[encoded data removed]",
      "text/plain": [
       "<matplotlib.figure.Figure at 0x7f963cc56080>"
      ]
     },
     "metadata": {},
     "output_type": "display_data"
    }
   ],
   "source": [
    "sns.factorplot('weekday_click',data=df,kind=\"count\", aspect=3)"
   ]
  },
  {
   "cell_type": "markdown",
   "metadata": {},
   "source": [
    "Plotting the data with the columns obtains, we will see if there are relations between the day of the week and the days pass by the click and checkin."
   ]
  },
  {
   "cell_type": "code",
   "execution_count": 29,
   "metadata": {
    "collapsed": true
   },
   "outputs": [],
   "source": [
    "weekday=df['weekday_click']\n",
    "lag_days = df['lag_days']"
   ]
  },
  {
   "cell_type": "markdown",
   "metadata": {},
   "source": [
    "As we can see in the plot below the Sunday is the day when the lag is more big (Lag is the time between the search and the checkin)"
   ]
  },
  {
   "cell_type": "code",
   "execution_count": 30,
   "metadata": {},
   "outputs": [
    {
     "data": {
      "text/plain": [
       "(0, 140)"
      ]
     },
     "execution_count": 30,
     "metadata": {},
     "output_type": "execute_result"
    },
    {
     "data": {
      "image/png": "[encoded data removed]",
      "text/plain": [
       "<matplotlib.figure.Figure at 0x7f963a72de10>"
      ]
     },
     "metadata": {},
     "output_type": "display_data"
    }
   ],
   "source": [
    "f = plt.figure()\n",
    "f.set_size_inches(12,8)\n",
    "ax = sns.boxplot(x=weekday, y=lag_days)\n",
    "ax.set_ylim(-0,140)"
   ]
  },
  {
   "cell_type": "markdown",
   "metadata": {},
   "source": [
    "We are going to see the sales per hotel_id, we see the top 10 hotels with more sales in this week and their medias values"
   ]
  },
  {
   "cell_type": "code",
   "execution_count": 31,
   "metadata": {},
   "outputs": [
    {
     "data": {
      "text/html": [
       "<div>\n",
       "<style>\n",
       "    .dataframe thead tr:only-child th {\n",
       "        text-align: right;\n",
       "    }\n",
       "\n",
       "    .dataframe thead th {\n",
       "        text-align: left;\n",
       "    }\n",
       "\n",
       "    .dataframe tbody tr th {\n",
       "        vertical-align: top;\n",
       "    }\n",
       "</style>\n",
       "<table border=\"1\" class=\"dataframe\">\n",
       "  <thead>\n",
       "    <tr style=\"text-align: right;\">\n",
       "      <th></th>\n",
       "      <th>mean</th>\n",
       "      <th>count</th>\n",
       "    </tr>\n",
       "    <tr>\n",
       "      <th>hotel_id</th>\n",
       "      <th></th>\n",
       "      <th></th>\n",
       "    </tr>\n",
       "  </thead>\n",
       "  <tbody>\n",
       "    <tr>\n",
       "      <th>150845</th>\n",
       "      <td>0.029903</td>\n",
       "      <td>1438</td>\n",
       "    </tr>\n",
       "    <tr>\n",
       "      <th>1869</th>\n",
       "      <td>0.012869</td>\n",
       "      <td>1321</td>\n",
       "    </tr>\n",
       "    <tr>\n",
       "      <th>162483</th>\n",
       "      <td>0.019721</td>\n",
       "      <td>1217</td>\n",
       "    </tr>\n",
       "    <tr>\n",
       "      <th>191568</th>\n",
       "      <td>0.014925</td>\n",
       "      <td>1139</td>\n",
       "    </tr>\n",
       "    <tr>\n",
       "      <th>336</th>\n",
       "      <td>0.024390</td>\n",
       "      <td>984</td>\n",
       "    </tr>\n",
       "    <tr>\n",
       "      <th>150476</th>\n",
       "      <td>0.017391</td>\n",
       "      <td>920</td>\n",
       "    </tr>\n",
       "    <tr>\n",
       "      <th>185272</th>\n",
       "      <td>0.016797</td>\n",
       "      <td>893</td>\n",
       "    </tr>\n",
       "    <tr>\n",
       "      <th>206352</th>\n",
       "      <td>0.008464</td>\n",
       "      <td>827</td>\n",
       "    </tr>\n",
       "    <tr>\n",
       "      <th>118</th>\n",
       "      <td>0.012315</td>\n",
       "      <td>812</td>\n",
       "    </tr>\n",
       "    <tr>\n",
       "      <th>247</th>\n",
       "      <td>0.032425</td>\n",
       "      <td>771</td>\n",
       "    </tr>\n",
       "  </tbody>\n",
       "</table>\n",
       "</div>"
      ],
      "text/plain": [
       "              mean  count\n",
       "hotel_id                 \n",
       "150845    0.029903   1438\n",
       "1869      0.012869   1321\n",
       "162483    0.019721   1217\n",
       "191568    0.014925   1139\n",
       "336       0.024390    984\n",
       "150476    0.017391    920\n",
       "185272    0.016797    893\n",
       "206352    0.008464    827\n",
       "118       0.012315    812\n",
       "247       0.032425    771"
      ]
     },
     "execution_count": 31,
     "metadata": {},
     "output_type": "execute_result"
    }
   ],
   "source": [
    "sales_per_hotel = df.groupby('hotel_id')['sale'].agg(['mean', 'count'])\n",
    "sales_per_hotel.sort_values(by='count', ascending=False).head(10)"
   ]
  },
  {
   "cell_type": "markdown",
   "metadata": {},
   "source": [
    "Plotting the data"
   ]
  },
  {
   "cell_type": "code",
   "execution_count": 32,
   "metadata": {},
   "outputs": [
    {
     "data": {
      "text/plain": [
       "<matplotlib.axes._subplots.AxesSubplot at 0x7f964faec978>"
      ]
     },
     "execution_count": 32,
     "metadata": {},
     "output_type": "execute_result"
    },
    {
     "data": {
      "image/png": "[encoded data removed]",
      "text/plain": [
       "<matplotlib.figure.Figure at 0x7f964fb8fc50>"
      ]
     },
     "metadata": {},
     "output_type": "display_data"
    }
   ],
   "source": [
    "#plt.scatter(sales_per_hotel['count'], sales_per_hotel['mean'])\n",
    "sales_per_hotel.plot.scatter('count','mean', alpha=.1)"
   ]
  },
  {
   "cell_type": "markdown",
   "metadata": {},
   "source": [
    "Plotting the sales by date, we seeing that the number is differente according to de day of the week"
   ]
  },
  {
   "cell_type": "code",
   "execution_count": 33,
   "metadata": {},
   "outputs": [
    {
     "data": {
      "text/plain": [
       "<matplotlib.axes._subplots.AxesSubplot at 0x7f964f979f98>"
      ]
     },
     "execution_count": 33,
     "metadata": {},
     "output_type": "execute_result"
    },
    {
     "data": {
      "image/png": "[encoded data removed]",
      "text/plain": [
       "<matplotlib.figure.Figure at 0x7f964f9fa160>"
      ]
     },
     "metadata": {},
     "output_type": "display_data"
    }
   ],
   "source": [
    "df.groupby('date')['sale'].agg(['count']).plot()"
   ]
  },
  {
   "cell_type": "markdown",
   "metadata": {},
   "source": [
    "### Relationships"
   ]
  },
  {
   "cell_type": "markdown",
   "metadata": {},
   "source": [
    "We observed that there are some outlayers in the field 'ndays_reserve' for the sale with value as 0, and the most part of the sales positives are included below 20 days of stay"
   ]
  },
  {
   "cell_type": "code",
   "execution_count": 34,
   "metadata": {},
   "outputs": [
    {
     "data": {
      "image/png": "[encoded data removed]",
      "text/plain": [
       "<matplotlib.figure.Figure at 0x7f964fbb6a58>"
      ]
     },
     "metadata": {},
     "output_type": "display_data"
    }
   ],
   "source": [
    "sns.stripplot(data=df, x='sale',y='ndays_reserve', jitter=True);"
   ]
  },
  {
   "cell_type": "markdown",
   "metadata": {},
   "source": [
    "Visualizing several variables with a pairplot graphics with seaborn, we use the kind regression."
   ]
  },
  {
   "cell_type": "code",
   "execution_count": 35,
   "metadata": {},
   "outputs": [
    {
     "data": {
      "text/plain": [
       "<seaborn.axisgrid.PairGrid at 0x7f964f91dc50>"
      ]
     },
     "execution_count": 35,
     "metadata": {},
     "output_type": "execute_result"
    },
    {
     "data": {
      "image/png": "[encoded data removed]",
      "text/plain": [
       "<matplotlib.figure.Figure at 0x7f964f91d9e8>"
      ]
     },
     "metadata": {},
     "output_type": "display_data"
    }
   ],
   "source": [
    "sns.pairplot(df.dropna(), hue='sale',size=4,vars=[\"ndays_reserve\", \"dayweek_num_click\",\"remite_id\",\"lag_days\"],kind='reg')"
   ]
  },
  {
   "cell_type": "code",
   "execution_count": 36,
   "metadata": {},
   "outputs": [
    {
     "data": {
      "text/plain": [
       "<seaborn.axisgrid.PairGrid at 0x7f963e15e208>"
      ]
     },
     "execution_count": 36,
     "metadata": {},
     "output_type": "execute_result"
    },
    {
     "data": {
      "image/png": "[encoded data removed]",
      "text/plain": [
       "<matplotlib.figure.Figure at 0x7f963e15e2e8>"
      ]
     },
     "metadata": {},
     "output_type": "display_data"
    }
   ],
   "source": [
    "sns.pairplot(df.dropna(), hue='sale',size=4,vars=[\"adults\",\"children\"],kind='scatter')"
   ]
  },
  {
   "cell_type": "markdown",
   "metadata": {},
   "source": [
    "#### Pre-Processing: Encoding Variables"
   ]
  },
  {
   "cell_type": "markdown",
   "metadata": {},
   "source": [
    "We have seem that it's neccesary encoding the field remite_id, so we'll asign a digit in function on their weights values"
   ]
  },
  {
   "cell_type": "code",
   "execution_count": 37,
   "metadata": {
    "collapsed": true
   },
   "outputs": [],
   "source": [
    "df.loc[ df['remite_id'] == 317, 'remite_id_Encoded'] = 'Market1'\n",
    "df.loc[ df['remite_id'] == 316, 'remite_id_Encoded'] = 'Market2'\n",
    "df.loc[ df['remite_id'] == 89, 'remite_id_Encoded'] = 'Market3'\n",
    "df.loc[ df['remite_id'] == 130, 'remite_id_Encoded'] = 'Market4'\n",
    "df.loc[ df['remite_id'] == 27, 'remite_id_Encoded'] = 'Market5'"
   ]
  },
  {
   "cell_type": "markdown",
   "metadata": {},
   "source": [
    "I going to encoding the unique variable 'object' type with the method One Hot Encoder. This method is a good alternative because One hot encoding creates new (binary) columns, indicating the presence of each possible value from the original data"
   ]
  },
  {
   "cell_type": "code",
   "execution_count": 38,
   "metadata": {
    "collapsed": true
   },
   "outputs": [],
   "source": [
    "df_encoded= pd.get_dummies(df, columns=[\"weekday_click\"], prefix=[\"Click_\"])\n",
    "df_encoded= pd.get_dummies(df_encoded, columns=[\"remite_id_Encoded\"], prefix=[\"Geo_\"])"
   ]
  },
  {
   "cell_type": "code",
   "execution_count": 39,
   "metadata": {},
   "outputs": [
    {
     "data": {
      "text/html": [
       "<div>\n",
       "<style>\n",
       "    .dataframe thead tr:only-child th {\n",
       "        text-align: right;\n",
       "    }\n",
       "\n",
       "    .dataframe thead th {\n",
       "        text-align: left;\n",
       "    }\n",
       "\n",
       "    .dataframe tbody tr th {\n",
       "        vertical-align: top;\n",
       "    }\n",
       "</style>\n",
       "<table border=\"1\" class=\"dataframe\">\n",
       "  <thead>\n",
       "    <tr style=\"text-align: right;\">\n",
       "      <th></th>\n",
       "      <th>date</th>\n",
       "      <th>remite_id</th>\n",
       "      <th>checkin</th>\n",
       "      <th>checkout</th>\n",
       "      <th>adults</th>\n",
       "      <th>children</th>\n",
       "      <th>hotel_id</th>\n",
       "      <th>sale</th>\n",
       "      <th>dayweek_num_click</th>\n",
       "      <th>weekend</th>\n",
       "      <th>...</th>\n",
       "      <th>Click__Saturday</th>\n",
       "      <th>Click__Sunday</th>\n",
       "      <th>Click__Thursday</th>\n",
       "      <th>Click__Tuesday</th>\n",
       "      <th>Click__Wednesday</th>\n",
       "      <th>Geo__Market1</th>\n",
       "      <th>Geo__Market2</th>\n",
       "      <th>Geo__Market3</th>\n",
       "      <th>Geo__Market4</th>\n",
       "      <th>Geo__Market5</th>\n",
       "    </tr>\n",
       "  </thead>\n",
       "  <tbody>\n",
       "    <tr>\n",
       "      <th>46918</th>\n",
       "      <td>2016-04-03</td>\n",
       "      <td>27</td>\n",
       "      <td>2016-08-21</td>\n",
       "      <td>2016-08-28</td>\n",
       "      <td>2</td>\n",
       "      <td>2</td>\n",
       "      <td>336</td>\n",
       "      <td>0</td>\n",
       "      <td>6</td>\n",
       "      <td>1</td>\n",
       "      <td>...</td>\n",
       "      <td>0</td>\n",
       "      <td>1</td>\n",
       "      <td>0</td>\n",
       "      <td>0</td>\n",
       "      <td>0</td>\n",
       "      <td>0</td>\n",
       "      <td>0</td>\n",
       "      <td>0</td>\n",
       "      <td>0</td>\n",
       "      <td>1</td>\n",
       "    </tr>\n",
       "    <tr>\n",
       "      <th>127437</th>\n",
       "      <td>2016-04-06</td>\n",
       "      <td>27</td>\n",
       "      <td>2016-04-07</td>\n",
       "      <td>2016-04-08</td>\n",
       "      <td>2</td>\n",
       "      <td>0</td>\n",
       "      <td>205625</td>\n",
       "      <td>0</td>\n",
       "      <td>2</td>\n",
       "      <td>0</td>\n",
       "      <td>...</td>\n",
       "      <td>0</td>\n",
       "      <td>0</td>\n",
       "      <td>0</td>\n",
       "      <td>0</td>\n",
       "      <td>1</td>\n",
       "      <td>0</td>\n",
       "      <td>0</td>\n",
       "      <td>0</td>\n",
       "      <td>0</td>\n",
       "      <td>1</td>\n",
       "    </tr>\n",
       "    <tr>\n",
       "      <th>86173</th>\n",
       "      <td>2016-04-04</td>\n",
       "      <td>27</td>\n",
       "      <td>2016-04-15</td>\n",
       "      <td>2016-04-17</td>\n",
       "      <td>2</td>\n",
       "      <td>0</td>\n",
       "      <td>167862</td>\n",
       "      <td>0</td>\n",
       "      <td>0</td>\n",
       "      <td>0</td>\n",
       "      <td>...</td>\n",
       "      <td>0</td>\n",
       "      <td>0</td>\n",
       "      <td>0</td>\n",
       "      <td>0</td>\n",
       "      <td>0</td>\n",
       "      <td>0</td>\n",
       "      <td>0</td>\n",
       "      <td>0</td>\n",
       "      <td>0</td>\n",
       "      <td>1</td>\n",
       "    </tr>\n",
       "    <tr>\n",
       "      <th>394</th>\n",
       "      <td>2016-04-01</td>\n",
       "      <td>89</td>\n",
       "      <td>2016-04-22</td>\n",
       "      <td>2016-04-26</td>\n",
       "      <td>2</td>\n",
       "      <td>0</td>\n",
       "      <td>201747</td>\n",
       "      <td>0</td>\n",
       "      <td>4</td>\n",
       "      <td>0</td>\n",
       "      <td>...</td>\n",
       "      <td>0</td>\n",
       "      <td>0</td>\n",
       "      <td>0</td>\n",
       "      <td>0</td>\n",
       "      <td>0</td>\n",
       "      <td>0</td>\n",
       "      <td>0</td>\n",
       "      <td>1</td>\n",
       "      <td>0</td>\n",
       "      <td>0</td>\n",
       "    </tr>\n",
       "    <tr>\n",
       "      <th>72648</th>\n",
       "      <td>2016-04-04</td>\n",
       "      <td>27</td>\n",
       "      <td>2016-04-08</td>\n",
       "      <td>2016-04-10</td>\n",
       "      <td>2</td>\n",
       "      <td>0</td>\n",
       "      <td>488</td>\n",
       "      <td>0</td>\n",
       "      <td>0</td>\n",
       "      <td>0</td>\n",
       "      <td>...</td>\n",
       "      <td>0</td>\n",
       "      <td>0</td>\n",
       "      <td>0</td>\n",
       "      <td>0</td>\n",
       "      <td>0</td>\n",
       "      <td>0</td>\n",
       "      <td>0</td>\n",
       "      <td>0</td>\n",
       "      <td>0</td>\n",
       "      <td>1</td>\n",
       "    </tr>\n",
       "    <tr>\n",
       "      <th>71004</th>\n",
       "      <td>2016-04-04</td>\n",
       "      <td>27</td>\n",
       "      <td>2016-06-18</td>\n",
       "      <td>2016-06-25</td>\n",
       "      <td>2</td>\n",
       "      <td>0</td>\n",
       "      <td>151611</td>\n",
       "      <td>0</td>\n",
       "      <td>0</td>\n",
       "      <td>0</td>\n",
       "      <td>...</td>\n",
       "      <td>0</td>\n",
       "      <td>0</td>\n",
       "      <td>0</td>\n",
       "      <td>0</td>\n",
       "      <td>0</td>\n",
       "      <td>0</td>\n",
       "      <td>0</td>\n",
       "      <td>0</td>\n",
       "      <td>0</td>\n",
       "      <td>1</td>\n",
       "    </tr>\n",
       "    <tr>\n",
       "      <th>76842</th>\n",
       "      <td>2016-04-04</td>\n",
       "      <td>27</td>\n",
       "      <td>2016-07-02</td>\n",
       "      <td>2016-07-10</td>\n",
       "      <td>2</td>\n",
       "      <td>2</td>\n",
       "      <td>192146</td>\n",
       "      <td>0</td>\n",
       "      <td>0</td>\n",
       "      <td>0</td>\n",
       "      <td>...</td>\n",
       "      <td>0</td>\n",
       "      <td>0</td>\n",
       "      <td>0</td>\n",
       "      <td>0</td>\n",
       "      <td>0</td>\n",
       "      <td>0</td>\n",
       "      <td>0</td>\n",
       "      <td>0</td>\n",
       "      <td>0</td>\n",
       "      <td>1</td>\n",
       "    </tr>\n",
       "    <tr>\n",
       "      <th>128166</th>\n",
       "      <td>2016-04-06</td>\n",
       "      <td>27</td>\n",
       "      <td>2016-07-10</td>\n",
       "      <td>2016-07-16</td>\n",
       "      <td>1</td>\n",
       "      <td>2</td>\n",
       "      <td>4214</td>\n",
       "      <td>0</td>\n",
       "      <td>2</td>\n",
       "      <td>0</td>\n",
       "      <td>...</td>\n",
       "      <td>0</td>\n",
       "      <td>0</td>\n",
       "      <td>0</td>\n",
       "      <td>0</td>\n",
       "      <td>1</td>\n",
       "      <td>0</td>\n",
       "      <td>0</td>\n",
       "      <td>0</td>\n",
       "      <td>0</td>\n",
       "      <td>1</td>\n",
       "    </tr>\n",
       "    <tr>\n",
       "      <th>91467</th>\n",
       "      <td>2016-04-04</td>\n",
       "      <td>317</td>\n",
       "      <td>2016-05-12</td>\n",
       "      <td>2016-05-23</td>\n",
       "      <td>2</td>\n",
       "      <td>0</td>\n",
       "      <td>355983</td>\n",
       "      <td>0</td>\n",
       "      <td>0</td>\n",
       "      <td>0</td>\n",
       "      <td>...</td>\n",
       "      <td>0</td>\n",
       "      <td>0</td>\n",
       "      <td>0</td>\n",
       "      <td>0</td>\n",
       "      <td>0</td>\n",
       "      <td>1</td>\n",
       "      <td>0</td>\n",
       "      <td>0</td>\n",
       "      <td>0</td>\n",
       "      <td>0</td>\n",
       "    </tr>\n",
       "    <tr>\n",
       "      <th>85644</th>\n",
       "      <td>2016-04-04</td>\n",
       "      <td>27</td>\n",
       "      <td>2016-04-24</td>\n",
       "      <td>2016-04-25</td>\n",
       "      <td>2</td>\n",
       "      <td>0</td>\n",
       "      <td>150452</td>\n",
       "      <td>0</td>\n",
       "      <td>0</td>\n",
       "      <td>0</td>\n",
       "      <td>...</td>\n",
       "      <td>0</td>\n",
       "      <td>0</td>\n",
       "      <td>0</td>\n",
       "      <td>0</td>\n",
       "      <td>0</td>\n",
       "      <td>0</td>\n",
       "      <td>0</td>\n",
       "      <td>0</td>\n",
       "      <td>0</td>\n",
       "      <td>1</td>\n",
       "    </tr>\n",
       "  </tbody>\n",
       "</table>\n",
       "<p>10 rows × 25 columns</p>\n",
       "</div>"
      ],
      "text/plain": [
       "             date  remite_id    checkin   checkout  adults  children  \\\n",
       "46918  2016-04-03         27 2016-08-21 2016-08-28       2         2   \n",
       "127437 2016-04-06         27 2016-04-07 2016-04-08       2         0   \n",
       "86173  2016-04-04         27 2016-04-15 2016-04-17       2         0   \n",
       "394    2016-04-01         89 2016-04-22 2016-04-26       2         0   \n",
       "72648  2016-04-04         27 2016-04-08 2016-04-10       2         0   \n",
       "71004  2016-04-04         27 2016-06-18 2016-06-25       2         0   \n",
       "76842  2016-04-04         27 2016-07-02 2016-07-10       2         2   \n",
       "128166 2016-04-06         27 2016-07-10 2016-07-16       1         2   \n",
       "91467  2016-04-04        317 2016-05-12 2016-05-23       2         0   \n",
       "85644  2016-04-04         27 2016-04-24 2016-04-25       2         0   \n",
       "\n",
       "        hotel_id  sale  dayweek_num_click  weekend      ...       \\\n",
       "46918        336     0                  6        1      ...        \n",
       "127437    205625     0                  2        0      ...        \n",
       "86173     167862     0                  0        0      ...        \n",
       "394       201747     0                  4        0      ...        \n",
       "72648        488     0                  0        0      ...        \n",
       "71004     151611     0                  0        0      ...        \n",
       "76842     192146     0                  0        0      ...        \n",
       "128166      4214     0                  2        0      ...        \n",
       "91467     355983     0                  0        0      ...        \n",
       "85644     150452     0                  0        0      ...        \n",
       "\n",
       "        Click__Saturday  Click__Sunday  Click__Thursday  Click__Tuesday  \\\n",
       "46918                 0              1                0               0   \n",
       "127437                0              0                0               0   \n",
       "86173                 0              0                0               0   \n",
       "394                   0              0                0               0   \n",
       "72648                 0              0                0               0   \n",
       "71004                 0              0                0               0   \n",
       "76842                 0              0                0               0   \n",
       "128166                0              0                0               0   \n",
       "91467                 0              0                0               0   \n",
       "85644                 0              0                0               0   \n",
       "\n",
       "        Click__Wednesday  Geo__Market1  Geo__Market2  Geo__Market3  \\\n",
       "46918                  0             0             0             0   \n",
       "127437                 1             0             0             0   \n",
       "86173                  0             0             0             0   \n",
       "394                    0             0             0             1   \n",
       "72648                  0             0             0             0   \n",
       "71004                  0             0             0             0   \n",
       "76842                  0             0             0             0   \n",
       "128166                 1             0             0             0   \n",
       "91467                  0             1             0             0   \n",
       "85644                  0             0             0             0   \n",
       "\n",
       "        Geo__Market4  Geo__Market5  \n",
       "46918              0             1  \n",
       "127437             0             1  \n",
       "86173              0             1  \n",
       "394                0             0  \n",
       "72648              0             1  \n",
       "71004              0             1  \n",
       "76842              0             1  \n",
       "128166             0             1  \n",
       "91467              0             0  \n",
       "85644              0             1  \n",
       "\n",
       "[10 rows x 25 columns]"
      ]
     },
     "execution_count": 39,
     "metadata": {},
     "output_type": "execute_result"
    }
   ],
   "source": [
    "df_encoded.sample(10)"
   ]
  },
  {
   "cell_type": "code",
   "execution_count": 40,
   "metadata": {},
   "outputs": [
    {
     "data": {
      "text/plain": [
       "date                 datetime64[ns]\n",
       "remite_id                     int64\n",
       "checkin              datetime64[ns]\n",
       "checkout             datetime64[ns]\n",
       "adults                        int64\n",
       "children                      int64\n",
       "hotel_id                      int64\n",
       "sale                          int64\n",
       "dayweek_num_click             int64\n",
       "weekend                       int64\n",
       "month_of_checkin              int64\n",
       "lag_days                    float64\n",
       "ndays_reserve               float64\n",
       "Click__Friday                 uint8\n",
       "Click__Monday                 uint8\n",
       "Click__Saturday               uint8\n",
       "Click__Sunday                 uint8\n",
       "Click__Thursday               uint8\n",
       "Click__Tuesday                uint8\n",
       "Click__Wednesday              uint8\n",
       "Geo__Market1                  uint8\n",
       "Geo__Market2                  uint8\n",
       "Geo__Market3                  uint8\n",
       "Geo__Market4                  uint8\n",
       "Geo__Market5                  uint8\n",
       "dtype: object"
      ]
     },
     "execution_count": 40,
     "metadata": {},
     "output_type": "execute_result"
    }
   ],
   "source": [
    "df_encoded.dtypes"
   ]
  },
  {
   "cell_type": "code",
   "execution_count": 41,
   "metadata": {},
   "outputs": [],
   "source": [
    "#Deleting the columns not necessary.\n",
    "drop_elements = ['hotel_id','remite_id','date','checkin','checkout','month_of_checkin','dayweek_num_click']\n",
    "df_encoded.drop(drop_elements, axis=1, inplace=True)"
   ]
  },
  {
   "cell_type": "markdown",
   "metadata": {},
   "source": [
    "Note: Finally I don't use the variable 'month_of_checkin' but I consider that is a important variable, it can be use for future models."
   ]
  },
  {
   "cell_type": "code",
   "execution_count": 42,
   "metadata": {},
   "outputs": [
    {
     "data": {
      "text/html": [
       "<div>\n",
       "<style>\n",
       "    .dataframe thead tr:only-child th {\n",
       "        text-align: right;\n",
       "    }\n",
       "\n",
       "    .dataframe thead th {\n",
       "        text-align: left;\n",
       "    }\n",
       "\n",
       "    .dataframe tbody tr th {\n",
       "        vertical-align: top;\n",
       "    }\n",
       "</style>\n",
       "<table border=\"1\" class=\"dataframe\">\n",
       "  <thead>\n",
       "    <tr style=\"text-align: right;\">\n",
       "      <th></th>\n",
       "      <th>adults</th>\n",
       "      <th>children</th>\n",
       "      <th>sale</th>\n",
       "      <th>weekend</th>\n",
       "      <th>lag_days</th>\n",
       "      <th>ndays_reserve</th>\n",
       "      <th>Click__Friday</th>\n",
       "      <th>Click__Monday</th>\n",
       "      <th>Click__Saturday</th>\n",
       "      <th>Click__Sunday</th>\n",
       "      <th>Click__Thursday</th>\n",
       "      <th>Click__Tuesday</th>\n",
       "      <th>Click__Wednesday</th>\n",
       "      <th>Geo__Market1</th>\n",
       "      <th>Geo__Market2</th>\n",
       "      <th>Geo__Market3</th>\n",
       "      <th>Geo__Market4</th>\n",
       "      <th>Geo__Market5</th>\n",
       "    </tr>\n",
       "  </thead>\n",
       "  <tbody>\n",
       "    <tr>\n",
       "      <th>450</th>\n",
       "      <td>2</td>\n",
       "      <td>0</td>\n",
       "      <td>0</td>\n",
       "      <td>0</td>\n",
       "      <td>162.0</td>\n",
       "      <td>1.0</td>\n",
       "      <td>1</td>\n",
       "      <td>0</td>\n",
       "      <td>0</td>\n",
       "      <td>0</td>\n",
       "      <td>0</td>\n",
       "      <td>0</td>\n",
       "      <td>0</td>\n",
       "      <td>0</td>\n",
       "      <td>0</td>\n",
       "      <td>1</td>\n",
       "      <td>0</td>\n",
       "      <td>0</td>\n",
       "    </tr>\n",
       "    <tr>\n",
       "      <th>110171</th>\n",
       "      <td>2</td>\n",
       "      <td>0</td>\n",
       "      <td>0</td>\n",
       "      <td>0</td>\n",
       "      <td>106.0</td>\n",
       "      <td>5.0</td>\n",
       "      <td>0</td>\n",
       "      <td>0</td>\n",
       "      <td>0</td>\n",
       "      <td>0</td>\n",
       "      <td>0</td>\n",
       "      <td>1</td>\n",
       "      <td>0</td>\n",
       "      <td>0</td>\n",
       "      <td>0</td>\n",
       "      <td>0</td>\n",
       "      <td>0</td>\n",
       "      <td>1</td>\n",
       "    </tr>\n",
       "    <tr>\n",
       "      <th>31100</th>\n",
       "      <td>2</td>\n",
       "      <td>0</td>\n",
       "      <td>0</td>\n",
       "      <td>1</td>\n",
       "      <td>152.0</td>\n",
       "      <td>5.0</td>\n",
       "      <td>0</td>\n",
       "      <td>0</td>\n",
       "      <td>1</td>\n",
       "      <td>0</td>\n",
       "      <td>0</td>\n",
       "      <td>0</td>\n",
       "      <td>0</td>\n",
       "      <td>0</td>\n",
       "      <td>0</td>\n",
       "      <td>0</td>\n",
       "      <td>0</td>\n",
       "      <td>1</td>\n",
       "    </tr>\n",
       "    <tr>\n",
       "      <th>137740</th>\n",
       "      <td>2</td>\n",
       "      <td>0</td>\n",
       "      <td>0</td>\n",
       "      <td>0</td>\n",
       "      <td>8.0</td>\n",
       "      <td>1.0</td>\n",
       "      <td>0</td>\n",
       "      <td>0</td>\n",
       "      <td>0</td>\n",
       "      <td>0</td>\n",
       "      <td>0</td>\n",
       "      <td>0</td>\n",
       "      <td>1</td>\n",
       "      <td>0</td>\n",
       "      <td>0</td>\n",
       "      <td>0</td>\n",
       "      <td>0</td>\n",
       "      <td>1</td>\n",
       "    </tr>\n",
       "    <tr>\n",
       "      <th>95050</th>\n",
       "      <td>2</td>\n",
       "      <td>0</td>\n",
       "      <td>1</td>\n",
       "      <td>0</td>\n",
       "      <td>14.0</td>\n",
       "      <td>1.0</td>\n",
       "      <td>0</td>\n",
       "      <td>0</td>\n",
       "      <td>0</td>\n",
       "      <td>0</td>\n",
       "      <td>0</td>\n",
       "      <td>1</td>\n",
       "      <td>0</td>\n",
       "      <td>0</td>\n",
       "      <td>0</td>\n",
       "      <td>1</td>\n",
       "      <td>0</td>\n",
       "      <td>0</td>\n",
       "    </tr>\n",
       "    <tr>\n",
       "      <th>39981</th>\n",
       "      <td>2</td>\n",
       "      <td>0</td>\n",
       "      <td>0</td>\n",
       "      <td>1</td>\n",
       "      <td>29.0</td>\n",
       "      <td>2.0</td>\n",
       "      <td>0</td>\n",
       "      <td>0</td>\n",
       "      <td>1</td>\n",
       "      <td>0</td>\n",
       "      <td>0</td>\n",
       "      <td>0</td>\n",
       "      <td>0</td>\n",
       "      <td>0</td>\n",
       "      <td>0</td>\n",
       "      <td>0</td>\n",
       "      <td>0</td>\n",
       "      <td>1</td>\n",
       "    </tr>\n",
       "    <tr>\n",
       "      <th>82066</th>\n",
       "      <td>2</td>\n",
       "      <td>0</td>\n",
       "      <td>0</td>\n",
       "      <td>0</td>\n",
       "      <td>26.0</td>\n",
       "      <td>1.0</td>\n",
       "      <td>0</td>\n",
       "      <td>1</td>\n",
       "      <td>0</td>\n",
       "      <td>0</td>\n",
       "      <td>0</td>\n",
       "      <td>0</td>\n",
       "      <td>0</td>\n",
       "      <td>0</td>\n",
       "      <td>0</td>\n",
       "      <td>0</td>\n",
       "      <td>0</td>\n",
       "      <td>1</td>\n",
       "    </tr>\n",
       "    <tr>\n",
       "      <th>125459</th>\n",
       "      <td>2</td>\n",
       "      <td>0</td>\n",
       "      <td>0</td>\n",
       "      <td>0</td>\n",
       "      <td>9.0</td>\n",
       "      <td>2.0</td>\n",
       "      <td>0</td>\n",
       "      <td>0</td>\n",
       "      <td>0</td>\n",
       "      <td>0</td>\n",
       "      <td>0</td>\n",
       "      <td>0</td>\n",
       "      <td>1</td>\n",
       "      <td>0</td>\n",
       "      <td>0</td>\n",
       "      <td>0</td>\n",
       "      <td>0</td>\n",
       "      <td>1</td>\n",
       "    </tr>\n",
       "    <tr>\n",
       "      <th>63938</th>\n",
       "      <td>2</td>\n",
       "      <td>0</td>\n",
       "      <td>0</td>\n",
       "      <td>1</td>\n",
       "      <td>135.0</td>\n",
       "      <td>6.0</td>\n",
       "      <td>0</td>\n",
       "      <td>0</td>\n",
       "      <td>0</td>\n",
       "      <td>1</td>\n",
       "      <td>0</td>\n",
       "      <td>0</td>\n",
       "      <td>0</td>\n",
       "      <td>0</td>\n",
       "      <td>0</td>\n",
       "      <td>0</td>\n",
       "      <td>1</td>\n",
       "      <td>0</td>\n",
       "    </tr>\n",
       "    <tr>\n",
       "      <th>51305</th>\n",
       "      <td>2</td>\n",
       "      <td>0</td>\n",
       "      <td>0</td>\n",
       "      <td>1</td>\n",
       "      <td>102.0</td>\n",
       "      <td>1.0</td>\n",
       "      <td>0</td>\n",
       "      <td>0</td>\n",
       "      <td>0</td>\n",
       "      <td>1</td>\n",
       "      <td>0</td>\n",
       "      <td>0</td>\n",
       "      <td>0</td>\n",
       "      <td>0</td>\n",
       "      <td>0</td>\n",
       "      <td>0</td>\n",
       "      <td>0</td>\n",
       "      <td>1</td>\n",
       "    </tr>\n",
       "  </tbody>\n",
       "</table>\n",
       "</div>"
      ],
      "text/plain": [
       "        adults  children  sale  weekend  lag_days  ndays_reserve  \\\n",
       "450          2         0     0        0     162.0            1.0   \n",
       "110171       2         0     0        0     106.0            5.0   \n",
       "31100        2         0     0        1     152.0            5.0   \n",
       "137740       2         0     0        0       8.0            1.0   \n",
       "95050        2         0     1        0      14.0            1.0   \n",
       "39981        2         0     0        1      29.0            2.0   \n",
       "82066        2         0     0        0      26.0            1.0   \n",
       "125459       2         0     0        0       9.0            2.0   \n",
       "63938        2         0     0        1     135.0            6.0   \n",
       "51305        2         0     0        1     102.0            1.0   \n",
       "\n",
       "        Click__Friday  Click__Monday  Click__Saturday  Click__Sunday  \\\n",
       "450                 1              0                0              0   \n",
       "110171              0              0                0              0   \n",
       "31100               0              0                1              0   \n",
       "137740              0              0                0              0   \n",
       "95050               0              0                0              0   \n",
       "39981               0              0                1              0   \n",
       "82066               0              1                0              0   \n",
       "125459              0              0                0              0   \n",
       "63938               0              0                0              1   \n",
       "51305               0              0                0              1   \n",
       "\n",
       "        Click__Thursday  Click__Tuesday  Click__Wednesday  Geo__Market1  \\\n",
       "450                   0               0                 0             0   \n",
       "110171                0               1                 0             0   \n",
       "31100                 0               0                 0             0   \n",
       "137740                0               0                 1             0   \n",
       "95050                 0               1                 0             0   \n",
       "39981                 0               0                 0             0   \n",
       "82066                 0               0                 0             0   \n",
       "125459                0               0                 1             0   \n",
       "63938                 0               0                 0             0   \n",
       "51305                 0               0                 0             0   \n",
       "\n",
       "        Geo__Market2  Geo__Market3  Geo__Market4  Geo__Market5  \n",
       "450                0             1             0             0  \n",
       "110171             0             0             0             1  \n",
       "31100              0             0             0             1  \n",
       "137740             0             0             0             1  \n",
       "95050              0             1             0             0  \n",
       "39981              0             0             0             1  \n",
       "82066              0             0             0             1  \n",
       "125459             0             0             0             1  \n",
       "63938              0             0             1             0  \n",
       "51305              0             0             0             1  "
      ]
     },
     "execution_count": 42,
     "metadata": {},
     "output_type": "execute_result"
    }
   ],
   "source": [
    "df_encoded.sample(10)"
   ]
  },
  {
   "cell_type": "markdown",
   "metadata": {},
   "source": [
    "Saving a new csv for use next notebooks and build the model"
   ]
  },
  {
   "cell_type": "code",
   "execution_count": 43,
   "metadata": {
    "collapsed": true
   },
   "outputs": [],
   "source": [
    "df_encoded.to_csv('./clicks_model.csv', sep=',')"
   ]
  }
 ],
 "metadata": {
  "kernelspec": {
   "display_name": "Python 3",
   "language": "python",
   "name": "python3"
  },
  "language_info": {
   "codemirror_mode": {
    "name": "ipython",
    "version": 3
   },
   "file_extension": ".py",
   "mimetype": "text/x-python",
   "name": "python",
   "nbconvert_exporter": "python",
   "pygments_lexer": "ipython3",
   "version": "3.6.4"
  }
 },
 "nbformat": 4,
 "nbformat_minor": 2
}
